{
 "cells": [
  {
   "cell_type": "code",
   "execution_count": 1,
   "id": "f5b4ad2d-81a3-4345-9523-05ebf6805d0b",
   "metadata": {},
   "outputs": [],
   "source": [
    "import pandas as pd\n",
    "import matplotlib.pyplot as plt\n",
    "import numpy as np\n",
    "import seaborn as sb"
   ]
  },
  {
   "cell_type": "markdown",
   "id": "7f6f8a67-9d5e-4adb-b7c9-695b0f137687",
   "metadata": {},
   "source": [
    "בסיס נתונים זה מספק סקירה מקיפה של גורמים שונים המשפיעים על ביצועי התלמידים במבחנים. היא כוללת מידע על הרגלי למידה, נוכחות, מעורבות הורית והיבטים נוספים המשפיעים על ההצלחה האקדמית"
   ]
  },
  {
   "cell_type": "markdown",
   "id": "5ad51733-bee4-4dbe-8888-caf527699eb3",
   "metadata": {},
   "source": [
    "מטרת ניתוח הנתונים של קובץ זה הוא זיהוי גורמים המשפיעים על ביצועי תלמידים: לזהות אילו גורמים (מבין אלו הכלולים בקובץ הנתונים) קשורים באופן מובהק לביצועי התלמידים במבחנים"
   ]
  },
  {
   "cell_type": "raw",
   "id": "4a71f87f-4322-481b-819e-c3e8b4156c88",
   "metadata": {},
   "source": [
    "לינק למקור המידע:\n",
    "https://www.kaggle.com/datasets/lainguyn123/student-performance-factors "
   ]
  },
  {
   "cell_type": "code",
   "execution_count": 2,
   "id": "e1c263cb-2b4e-4f6b-85e4-b2dfc55fc4e3",
   "metadata": {},
   "outputs": [],
   "source": [
    "df=pd.read_csv(\"StudentPerformanceFactors.csv\")"
   ]
  },
  {
   "cell_type": "code",
   "execution_count": 4,
   "id": "52f93518-ad0a-463f-9dd9-4b360983305e",
   "metadata": {},
   "outputs": [
    {
     "data": {
      "text/html": [
       "<div>\n",
       "<style scoped>\n",
       "    .dataframe tbody tr th:only-of-type {\n",
       "        vertical-align: middle;\n",
       "    }\n",
       "\n",
       "    .dataframe tbody tr th {\n",
       "        vertical-align: top;\n",
       "    }\n",
       "\n",
       "    .dataframe thead th {\n",
       "        text-align: right;\n",
       "    }\n",
       "</style>\n",
       "<table border=\"1\" class=\"dataframe\">\n",
       "  <thead>\n",
       "    <tr style=\"text-align: right;\">\n",
       "      <th></th>\n",
       "      <th>Hours_Studied</th>\n",
       "      <th>Attendance</th>\n",
       "      <th>Parental_Involvement</th>\n",
       "      <th>Access_to_Resources</th>\n",
       "      <th>Extracurricular_Activities</th>\n",
       "      <th>Sleep_Hours</th>\n",
       "      <th>Previous_Scores</th>\n",
       "      <th>Motivation_Level</th>\n",
       "      <th>Internet_Access</th>\n",
       "      <th>Tutoring_Sessions</th>\n",
       "      <th>Family_Income</th>\n",
       "      <th>Teacher_Quality</th>\n",
       "      <th>School_Type</th>\n",
       "      <th>Peer_Influence</th>\n",
       "      <th>Physical_Activity</th>\n",
       "      <th>Learning_Disabilities</th>\n",
       "      <th>Parental_Education_Level</th>\n",
       "      <th>Distance_from_Home</th>\n",
       "      <th>Gender</th>\n",
       "      <th>Exam_Score</th>\n",
       "    </tr>\n",
       "  </thead>\n",
       "  <tbody>\n",
       "    <tr>\n",
       "      <th>0</th>\n",
       "      <td>23</td>\n",
       "      <td>84</td>\n",
       "      <td>Low</td>\n",
       "      <td>High</td>\n",
       "      <td>No</td>\n",
       "      <td>7</td>\n",
       "      <td>73</td>\n",
       "      <td>Low</td>\n",
       "      <td>Yes</td>\n",
       "      <td>0</td>\n",
       "      <td>Low</td>\n",
       "      <td>Medium</td>\n",
       "      <td>Public</td>\n",
       "      <td>Positive</td>\n",
       "      <td>3</td>\n",
       "      <td>No</td>\n",
       "      <td>High School</td>\n",
       "      <td>Near</td>\n",
       "      <td>Male</td>\n",
       "      <td>67</td>\n",
       "    </tr>\n",
       "    <tr>\n",
       "      <th>1</th>\n",
       "      <td>19</td>\n",
       "      <td>64</td>\n",
       "      <td>Low</td>\n",
       "      <td>Medium</td>\n",
       "      <td>No</td>\n",
       "      <td>8</td>\n",
       "      <td>59</td>\n",
       "      <td>Low</td>\n",
       "      <td>Yes</td>\n",
       "      <td>2</td>\n",
       "      <td>Medium</td>\n",
       "      <td>Medium</td>\n",
       "      <td>Public</td>\n",
       "      <td>Negative</td>\n",
       "      <td>4</td>\n",
       "      <td>No</td>\n",
       "      <td>College</td>\n",
       "      <td>Moderate</td>\n",
       "      <td>Female</td>\n",
       "      <td>61</td>\n",
       "    </tr>\n",
       "    <tr>\n",
       "      <th>2</th>\n",
       "      <td>24</td>\n",
       "      <td>98</td>\n",
       "      <td>Medium</td>\n",
       "      <td>Medium</td>\n",
       "      <td>Yes</td>\n",
       "      <td>7</td>\n",
       "      <td>91</td>\n",
       "      <td>Medium</td>\n",
       "      <td>Yes</td>\n",
       "      <td>2</td>\n",
       "      <td>Medium</td>\n",
       "      <td>Medium</td>\n",
       "      <td>Public</td>\n",
       "      <td>Neutral</td>\n",
       "      <td>4</td>\n",
       "      <td>No</td>\n",
       "      <td>Postgraduate</td>\n",
       "      <td>Near</td>\n",
       "      <td>Male</td>\n",
       "      <td>74</td>\n",
       "    </tr>\n",
       "    <tr>\n",
       "      <th>3</th>\n",
       "      <td>29</td>\n",
       "      <td>89</td>\n",
       "      <td>Low</td>\n",
       "      <td>Medium</td>\n",
       "      <td>Yes</td>\n",
       "      <td>8</td>\n",
       "      <td>98</td>\n",
       "      <td>Medium</td>\n",
       "      <td>Yes</td>\n",
       "      <td>1</td>\n",
       "      <td>Medium</td>\n",
       "      <td>Medium</td>\n",
       "      <td>Public</td>\n",
       "      <td>Negative</td>\n",
       "      <td>4</td>\n",
       "      <td>No</td>\n",
       "      <td>High School</td>\n",
       "      <td>Moderate</td>\n",
       "      <td>Male</td>\n",
       "      <td>71</td>\n",
       "    </tr>\n",
       "    <tr>\n",
       "      <th>4</th>\n",
       "      <td>19</td>\n",
       "      <td>92</td>\n",
       "      <td>Medium</td>\n",
       "      <td>Medium</td>\n",
       "      <td>Yes</td>\n",
       "      <td>6</td>\n",
       "      <td>65</td>\n",
       "      <td>Medium</td>\n",
       "      <td>Yes</td>\n",
       "      <td>3</td>\n",
       "      <td>Medium</td>\n",
       "      <td>High</td>\n",
       "      <td>Public</td>\n",
       "      <td>Neutral</td>\n",
       "      <td>4</td>\n",
       "      <td>No</td>\n",
       "      <td>College</td>\n",
       "      <td>Near</td>\n",
       "      <td>Female</td>\n",
       "      <td>70</td>\n",
       "    </tr>\n",
       "  </tbody>\n",
       "</table>\n",
       "</div>"
      ],
      "text/plain": [
       "   Hours_Studied  Attendance Parental_Involvement Access_to_Resources  \\\n",
       "0             23          84                  Low                High   \n",
       "1             19          64                  Low              Medium   \n",
       "2             24          98               Medium              Medium   \n",
       "3             29          89                  Low              Medium   \n",
       "4             19          92               Medium              Medium   \n",
       "\n",
       "  Extracurricular_Activities  Sleep_Hours  Previous_Scores Motivation_Level  \\\n",
       "0                         No            7               73              Low   \n",
       "1                         No            8               59              Low   \n",
       "2                        Yes            7               91           Medium   \n",
       "3                        Yes            8               98           Medium   \n",
       "4                        Yes            6               65           Medium   \n",
       "\n",
       "  Internet_Access  Tutoring_Sessions Family_Income Teacher_Quality  \\\n",
       "0             Yes                  0           Low          Medium   \n",
       "1             Yes                  2        Medium          Medium   \n",
       "2             Yes                  2        Medium          Medium   \n",
       "3             Yes                  1        Medium          Medium   \n",
       "4             Yes                  3        Medium            High   \n",
       "\n",
       "  School_Type Peer_Influence  Physical_Activity Learning_Disabilities  \\\n",
       "0      Public       Positive                  3                    No   \n",
       "1      Public       Negative                  4                    No   \n",
       "2      Public        Neutral                  4                    No   \n",
       "3      Public       Negative                  4                    No   \n",
       "4      Public        Neutral                  4                    No   \n",
       "\n",
       "  Parental_Education_Level Distance_from_Home  Gender  Exam_Score  \n",
       "0              High School               Near    Male          67  \n",
       "1                  College           Moderate  Female          61  \n",
       "2             Postgraduate               Near    Male          74  \n",
       "3              High School           Moderate    Male          71  \n",
       "4                  College               Near  Female          70  "
      ]
     },
     "execution_count": 4,
     "metadata": {},
     "output_type": "execute_result"
    }
   ],
   "source": [
    "df.head()"
   ]
  },
  {
   "cell_type": "raw",
   "id": "7afaa7cc-2e89-4bc3-b69e-511471a21a7c",
   "metadata": {},
   "source": [
    "תיאור עמודות בסיס הנתונים\n",
    "Hours_Studied – מספר השעות שהוקדשו ללמידה בשבוע\n",
    "Attendance – אחוז השיעורים שהתלמיד נכח בהם\n",
    "Parental_Involvement – רמת המעורבות של ההורים בחינוך התלמיד (נמוכה, בינונית, גבוהה)\n",
    "Access_to_Resources – זמינות משאבים חינוכיים (נמוכה, בינונית, גבוהה)\n",
    "Extracurricular_Activities – השתתפות בפעילויות חוץ-לימודיות (כן, לא)\n",
    "Sleep_Hours – מספר שעות השינה הממוצע בלילה\n",
    "Previous_Scores – ציונים ממבחנים קודמים\n",
    "Motivation_Level – רמת המוטיבציה של התלמיד (נמוכה, בינונית, גבוהה)\n",
    "Internet_Access – זמינות גישה לאינטרנט (כן, לא)\n",
    "Tutoring_Sessions – מספר מפגשי תגבור שהשתתף בהם התלמיד בחודש\n",
    "Family_Income – רמת ההכנסה של המשפחה (נמוכה, בינונית, גבוהה)\n",
    "Teacher_Quality – איכות המורים (נמוכה, בינונית, גבוהה)\n",
    "School_Type – סוג בית הספר בו לומד התלמיד (ציבורי, פרטי)\n",
    "Peer_Influence – השפעת חברים על ההצלחה האקדמית (חיובית, ניטרלית, שלילית)\n",
    "Physical_Activity – מספר שעות הפעילות הגופנית הממוצע בשבוע\n",
    "Learning_Disabilities – נוכחות של לקויות למידה (כן, לא)\n",
    "Parental_Education_Level – רמת ההשכלה של ההורים (תיכון, מכללה, תארים מתקדמים)\n",
    "Distance_from_Home – המרחק מבית הספר לבית (קרוב, בינוני, רחוק)\n",
    "Gender – מגדר התלמיד (זכר, נקבה)\n",
    "Exam_Score – ציון במבחן הסופי"
   ]
  },
  {
   "cell_type": "markdown",
   "id": "622f5703-e93a-40d3-aa86-35d3bc94c9a2",
   "metadata": {},
   "source": [
    "**שאלות מחקר**"
   ]
  },
  {
   "cell_type": "markdown",
   "id": "4b06a7f0-dd65-4d22-a4e3-b4709c8d7182",
   "metadata": {},
   "source": [
    "1. האם קיים קשר בין סוג בית הספר (ציבורי או פרטי) לבין רמת ההכנסה של משפחות התלמידים? "
   ]
  },
  {
   "cell_type": "markdown",
   "id": "fb2c74d4-50cf-4a24-8d4f-85286f1ea0ca",
   "metadata": {},
   "source": [
    "2. האם קיימים הבדלים בציון המבחן הסופי בין תלמידים עם לקויות למידה לבין תלמידים ללא לקויות למידה?"
   ]
  },
  {
   "cell_type": "markdown",
   "id": "97c61d7e-57e6-4cc9-9fb2-031e10557707",
   "metadata": {},
   "source": [
    "3. האם קיים קשר בין רמת המוטיבציה של תלמידים לבין ציוני הבחינה הסופית שלהם?"
   ]
  },
  {
   "cell_type": "markdown",
   "id": "6bc95875-ac7c-42c4-a29e-445e5ba0004e",
   "metadata": {},
   "source": [
    "4. האם המרחק בין מקום המגורים למוסד הלימודים בשילוב רמת המוטיבציה של התלמידים משפיע על שיעור הנוכחות שלהם?"
   ]
  },
  {
   "cell_type": "markdown",
   "id": "f2fb23d3-bb74-45eb-9ca3-99f919d2587a",
   "metadata": {},
   "source": [
    "5. כיצד משפיעים כמות השיעורים הפרטיים יחד עם מספר שעות הלמידה העצמית על ציוני המבחן הסופי של התלמידים?  "
   ]
  },
  {
   "cell_type": "code",
   "execution_count": 25,
   "id": "6f54a337-e5eb-4381-b50f-e29e6def45e2",
   "metadata": {},
   "outputs": [
    {
     "name": "stdout",
     "output_type": "stream",
     "text": [
      "<class 'pandas.core.frame.DataFrame'>\n",
      "RangeIndex: 6607 entries, 0 to 6606\n",
      "Data columns (total 20 columns):\n",
      " #   Column                      Non-Null Count  Dtype \n",
      "---  ------                      --------------  ----- \n",
      " 0   Hours_Studied               6607 non-null   int64 \n",
      " 1   Attendance                  6607 non-null   int64 \n",
      " 2   Parental_Involvement        6607 non-null   object\n",
      " 3   Access_to_Resources         6607 non-null   object\n",
      " 4   Extracurricular_Activities  6607 non-null   object\n",
      " 5   Sleep_Hours                 6607 non-null   int64 \n",
      " 6   Previous_Scores             6607 non-null   int64 \n",
      " 7   Motivation_Level            6607 non-null   object\n",
      " 8   Internet_Access             6607 non-null   object\n",
      " 9   Tutoring_Sessions           6607 non-null   int64 \n",
      " 10  Family_Income               6607 non-null   object\n",
      " 11  Teacher_Quality             6529 non-null   object\n",
      " 12  School_Type                 6607 non-null   object\n",
      " 13  Peer_Influence              6607 non-null   object\n",
      " 14  Physical_Activity           6607 non-null   int64 \n",
      " 15  Learning_Disabilities       6607 non-null   object\n",
      " 16  Parental_Education_Level    6517 non-null   object\n",
      " 17  Distance_from_Home          6540 non-null   object\n",
      " 18  Gender                      6607 non-null   object\n",
      " 19  Exam_Score                  6607 non-null   int64 \n",
      "dtypes: int64(7), object(13)\n",
      "memory usage: 1.0+ MB\n"
     ]
    }
   ],
   "source": [
    "df.info()"
   ]
  },
  {
   "cell_type": "raw",
   "id": "83eb09a0-58b5-4228-82be-79062998d6eb",
   "metadata": {},
   "source": [
    "מבנה הדאטה פריים\n",
    "מספר שורות ועמודות: 6,607 שורות ו-20 עמודות\n",
    "סוגי נתונים:\n",
    "שבע עמודות מסוג מספרים שלמים - כוללות נתונים כמו שעות למידה, שעות שינה, ציון במבחן ועוד\n",
    "שלוש עשרה עמודות מסוג מחרוזת - כוללות נתונים כמו מעורבות הורית, רמת מוטיבציה, גישה למשאבים ועוד\n",
    "עמודות עם ערכים חסרים:\n",
    "Teacher_Quality – חסרים 78 ערכים\n",
    "Parental_Education_Level – חסרים 90 ערכים\n",
    "Distance_from_Home – חסרים 67 ערכים"
   ]
  },
  {
   "cell_type": "markdown",
   "id": "ffef0976-6806-414b-a9a6-c0b64ad137d5",
   "metadata": {},
   "source": [
    "**ניתוח סטטיסטי תיאורי**"
   ]
  },
  {
   "cell_type": "code",
   "execution_count": 6,
   "id": "3b5559da-6dac-4156-a3f5-9cad05f041f6",
   "metadata": {},
   "outputs": [
    {
     "data": {
      "text/html": [
       "<div>\n",
       "<style scoped>\n",
       "    .dataframe tbody tr th:only-of-type {\n",
       "        vertical-align: middle;\n",
       "    }\n",
       "\n",
       "    .dataframe tbody tr th {\n",
       "        vertical-align: top;\n",
       "    }\n",
       "\n",
       "    .dataframe thead th {\n",
       "        text-align: right;\n",
       "    }\n",
       "</style>\n",
       "<table border=\"1\" class=\"dataframe\">\n",
       "  <thead>\n",
       "    <tr style=\"text-align: right;\">\n",
       "      <th></th>\n",
       "      <th>Hours_Studied</th>\n",
       "      <th>Attendance</th>\n",
       "      <th>Sleep_Hours</th>\n",
       "      <th>Previous_Scores</th>\n",
       "      <th>Tutoring_Sessions</th>\n",
       "      <th>Physical_Activity</th>\n",
       "      <th>Exam_Score</th>\n",
       "    </tr>\n",
       "  </thead>\n",
       "  <tbody>\n",
       "    <tr>\n",
       "      <th>count</th>\n",
       "      <td>6607.000000</td>\n",
       "      <td>6607.000000</td>\n",
       "      <td>6607.00000</td>\n",
       "      <td>6607.000000</td>\n",
       "      <td>6607.000000</td>\n",
       "      <td>6607.000000</td>\n",
       "      <td>6607.000000</td>\n",
       "    </tr>\n",
       "    <tr>\n",
       "      <th>mean</th>\n",
       "      <td>19.975329</td>\n",
       "      <td>79.977448</td>\n",
       "      <td>7.02906</td>\n",
       "      <td>75.070531</td>\n",
       "      <td>1.493719</td>\n",
       "      <td>2.967610</td>\n",
       "      <td>67.235659</td>\n",
       "    </tr>\n",
       "    <tr>\n",
       "      <th>std</th>\n",
       "      <td>5.990594</td>\n",
       "      <td>11.547475</td>\n",
       "      <td>1.46812</td>\n",
       "      <td>14.399784</td>\n",
       "      <td>1.230570</td>\n",
       "      <td>1.031231</td>\n",
       "      <td>3.890456</td>\n",
       "    </tr>\n",
       "    <tr>\n",
       "      <th>min</th>\n",
       "      <td>1.000000</td>\n",
       "      <td>60.000000</td>\n",
       "      <td>4.00000</td>\n",
       "      <td>50.000000</td>\n",
       "      <td>0.000000</td>\n",
       "      <td>0.000000</td>\n",
       "      <td>55.000000</td>\n",
       "    </tr>\n",
       "    <tr>\n",
       "      <th>25%</th>\n",
       "      <td>16.000000</td>\n",
       "      <td>70.000000</td>\n",
       "      <td>6.00000</td>\n",
       "      <td>63.000000</td>\n",
       "      <td>1.000000</td>\n",
       "      <td>2.000000</td>\n",
       "      <td>65.000000</td>\n",
       "    </tr>\n",
       "    <tr>\n",
       "      <th>50%</th>\n",
       "      <td>20.000000</td>\n",
       "      <td>80.000000</td>\n",
       "      <td>7.00000</td>\n",
       "      <td>75.000000</td>\n",
       "      <td>1.000000</td>\n",
       "      <td>3.000000</td>\n",
       "      <td>67.000000</td>\n",
       "    </tr>\n",
       "    <tr>\n",
       "      <th>75%</th>\n",
       "      <td>24.000000</td>\n",
       "      <td>90.000000</td>\n",
       "      <td>8.00000</td>\n",
       "      <td>88.000000</td>\n",
       "      <td>2.000000</td>\n",
       "      <td>4.000000</td>\n",
       "      <td>69.000000</td>\n",
       "    </tr>\n",
       "    <tr>\n",
       "      <th>max</th>\n",
       "      <td>44.000000</td>\n",
       "      <td>100.000000</td>\n",
       "      <td>10.00000</td>\n",
       "      <td>100.000000</td>\n",
       "      <td>8.000000</td>\n",
       "      <td>6.000000</td>\n",
       "      <td>101.000000</td>\n",
       "    </tr>\n",
       "  </tbody>\n",
       "</table>\n",
       "</div>"
      ],
      "text/plain": [
       "       Hours_Studied   Attendance  Sleep_Hours  Previous_Scores  \\\n",
       "count    6607.000000  6607.000000   6607.00000      6607.000000   \n",
       "mean       19.975329    79.977448      7.02906        75.070531   \n",
       "std         5.990594    11.547475      1.46812        14.399784   \n",
       "min         1.000000    60.000000      4.00000        50.000000   \n",
       "25%        16.000000    70.000000      6.00000        63.000000   \n",
       "50%        20.000000    80.000000      7.00000        75.000000   \n",
       "75%        24.000000    90.000000      8.00000        88.000000   \n",
       "max        44.000000   100.000000     10.00000       100.000000   \n",
       "\n",
       "       Tutoring_Sessions  Physical_Activity   Exam_Score  \n",
       "count        6607.000000        6607.000000  6607.000000  \n",
       "mean            1.493719           2.967610    67.235659  \n",
       "std             1.230570           1.031231     3.890456  \n",
       "min             0.000000           0.000000    55.000000  \n",
       "25%             1.000000           2.000000    65.000000  \n",
       "50%             1.000000           3.000000    67.000000  \n",
       "75%             2.000000           4.000000    69.000000  \n",
       "max             8.000000           6.000000   101.000000  "
      ]
     },
     "execution_count": 6,
     "metadata": {},
     "output_type": "execute_result"
    }
   ],
   "source": [
    "df.describe()"
   ]
  },
  {
   "cell_type": "markdown",
   "id": "e781d727-1931-48e8-8bad-9a8ca88f1b33",
   "metadata": {},
   "source": [
    "ניתן להסיק מהפלט כמה מסקנות: \n",
    "ישנה סטיית תקן גבוהה יחסית בשדה של ציונים קודמים ובנוכחות מה שמראה על פיזור גבוה\n",
    "ובציון המבחן הערך המקסימלי הוא 101 מה שלא נראה הגיוני, יכולה להיות טעות בהזנת הנתונים"
   ]
  },
  {
   "cell_type": "markdown",
   "id": "81e19c43-6b3e-492a-8cd0-53f0864e111b",
   "metadata": {},
   "source": [
    "החלטנו לא לגעת בנתוני אחוזי הנוכחות והציונים הקודמים למרות שסטיית התקן גבוהה ומעידה על פיזור גבוה מאחר ולדענו פיזור כזה הוא הגיוני בנתונים מסוג זה. בציונים תמיד יכולים להיות תלמידים שקיבלו ציונים גבוהים או תלמידים שקיבלו ציונים נמוכים ובנוכחות יתכן ויש תלמידים המגיעים בצורה עקבית וכאלו הבוחרים להגיע פחות "
   ]
  },
  {
   "cell_type": "code",
   "execution_count": 8,
   "id": "57d4e6b1-8ba1-4422-8802-13dfba5443cd",
   "metadata": {},
   "outputs": [
    {
     "data": {
      "text/html": [
       "<div>\n",
       "<style scoped>\n",
       "    .dataframe tbody tr th:only-of-type {\n",
       "        vertical-align: middle;\n",
       "    }\n",
       "\n",
       "    .dataframe tbody tr th {\n",
       "        vertical-align: top;\n",
       "    }\n",
       "\n",
       "    .dataframe thead th {\n",
       "        text-align: right;\n",
       "    }\n",
       "</style>\n",
       "<table border=\"1\" class=\"dataframe\">\n",
       "  <thead>\n",
       "    <tr style=\"text-align: right;\">\n",
       "      <th></th>\n",
       "      <th>Parental_Involvement</th>\n",
       "      <th>Access_to_Resources</th>\n",
       "      <th>Extracurricular_Activities</th>\n",
       "      <th>Motivation_Level</th>\n",
       "      <th>Internet_Access</th>\n",
       "      <th>Family_Income</th>\n",
       "      <th>Teacher_Quality</th>\n",
       "      <th>School_Type</th>\n",
       "      <th>Peer_Influence</th>\n",
       "      <th>Learning_Disabilities</th>\n",
       "      <th>Parental_Education_Level</th>\n",
       "      <th>Distance_from_Home</th>\n",
       "      <th>Gender</th>\n",
       "    </tr>\n",
       "  </thead>\n",
       "  <tbody>\n",
       "    <tr>\n",
       "      <th>count</th>\n",
       "      <td>6607</td>\n",
       "      <td>6607</td>\n",
       "      <td>6607</td>\n",
       "      <td>6607</td>\n",
       "      <td>6607</td>\n",
       "      <td>6607</td>\n",
       "      <td>6529</td>\n",
       "      <td>6607</td>\n",
       "      <td>6607</td>\n",
       "      <td>6607</td>\n",
       "      <td>6517</td>\n",
       "      <td>6540</td>\n",
       "      <td>6607</td>\n",
       "    </tr>\n",
       "    <tr>\n",
       "      <th>unique</th>\n",
       "      <td>3</td>\n",
       "      <td>3</td>\n",
       "      <td>2</td>\n",
       "      <td>3</td>\n",
       "      <td>2</td>\n",
       "      <td>3</td>\n",
       "      <td>3</td>\n",
       "      <td>2</td>\n",
       "      <td>3</td>\n",
       "      <td>2</td>\n",
       "      <td>3</td>\n",
       "      <td>3</td>\n",
       "      <td>2</td>\n",
       "    </tr>\n",
       "    <tr>\n",
       "      <th>top</th>\n",
       "      <td>Medium</td>\n",
       "      <td>Medium</td>\n",
       "      <td>Yes</td>\n",
       "      <td>Medium</td>\n",
       "      <td>Yes</td>\n",
       "      <td>Low</td>\n",
       "      <td>Medium</td>\n",
       "      <td>Public</td>\n",
       "      <td>Positive</td>\n",
       "      <td>No</td>\n",
       "      <td>High School</td>\n",
       "      <td>Near</td>\n",
       "      <td>Male</td>\n",
       "    </tr>\n",
       "    <tr>\n",
       "      <th>freq</th>\n",
       "      <td>3362</td>\n",
       "      <td>3319</td>\n",
       "      <td>3938</td>\n",
       "      <td>3351</td>\n",
       "      <td>6108</td>\n",
       "      <td>2672</td>\n",
       "      <td>3925</td>\n",
       "      <td>4598</td>\n",
       "      <td>2638</td>\n",
       "      <td>5912</td>\n",
       "      <td>3223</td>\n",
       "      <td>3884</td>\n",
       "      <td>3814</td>\n",
       "    </tr>\n",
       "  </tbody>\n",
       "</table>\n",
       "</div>"
      ],
      "text/plain": [
       "       Parental_Involvement Access_to_Resources Extracurricular_Activities  \\\n",
       "count                  6607                6607                       6607   \n",
       "unique                    3                   3                          2   \n",
       "top                  Medium              Medium                        Yes   \n",
       "freq                   3362                3319                       3938   \n",
       "\n",
       "       Motivation_Level Internet_Access Family_Income Teacher_Quality  \\\n",
       "count              6607            6607          6607            6529   \n",
       "unique                3               2             3               3   \n",
       "top              Medium             Yes           Low          Medium   \n",
       "freq               3351            6108          2672            3925   \n",
       "\n",
       "       School_Type Peer_Influence Learning_Disabilities  \\\n",
       "count         6607           6607                  6607   \n",
       "unique           2              3                     2   \n",
       "top         Public       Positive                    No   \n",
       "freq          4598           2638                  5912   \n",
       "\n",
       "       Parental_Education_Level Distance_from_Home Gender  \n",
       "count                      6517               6540   6607  \n",
       "unique                        3                  3      2  \n",
       "top                 High School               Near   Male  \n",
       "freq                       3223               3884   3814  "
      ]
     },
     "execution_count": 8,
     "metadata": {},
     "output_type": "execute_result"
    }
   ],
   "source": [
    "df.describe(include='object')"
   ]
  },
  {
   "cell_type": "markdown",
   "id": "33d03bcf-858c-43fc-82bb-e27ad7b245a4",
   "metadata": {},
   "source": [
    "מהפלט ניתן להסיק כי\n",
    "רוב התלמידים מעידים שהוריהם מתערבים במידה בינונית, הגישה שלהם למקורות בינונית, רובם משתתפים בפעילויות חוץ לימודיות, רמת המוטיבציה שלהם בינונית, לרובם קיימת גישה לאינטרנט, רמת ההכנסה של רוב המשפחות נמוכה, לדעת הרוב רמת המורים בינונית, רוב בתי הספר שלומדים בהם הם ציבוריים, רובם מעידים על השפעה חיובית מחברים, רובם טוענים שאין להם בעיות למידה, רמת השכלה של רוב ההורים היא תיכונית, בית הספר קרוב לרוב ביתם של התלמידים ורובם גברים"
   ]
  },
  {
   "cell_type": "markdown",
   "id": "38748898-3e7e-4063-aae6-754d5f9dc1e0",
   "metadata": {},
   "source": [
    "**ניקוי נתונים**"
   ]
  },
  {
   "cell_type": "code",
   "execution_count": 13,
   "id": "f976779a-23af-45be-92d0-9d6046d1ebb7",
   "metadata": {},
   "outputs": [
    {
     "data": {
      "text/html": [
       "<div>\n",
       "<style scoped>\n",
       "    .dataframe tbody tr th:only-of-type {\n",
       "        vertical-align: middle;\n",
       "    }\n",
       "\n",
       "    .dataframe tbody tr th {\n",
       "        vertical-align: top;\n",
       "    }\n",
       "\n",
       "    .dataframe thead th {\n",
       "        text-align: right;\n",
       "    }\n",
       "</style>\n",
       "<table border=\"1\" class=\"dataframe\">\n",
       "  <thead>\n",
       "    <tr style=\"text-align: right;\">\n",
       "      <th></th>\n",
       "      <th>Hours_Studied</th>\n",
       "      <th>Attendance</th>\n",
       "      <th>Parental_Involvement</th>\n",
       "      <th>Access_to_Resources</th>\n",
       "      <th>Extracurricular_Activities</th>\n",
       "      <th>Sleep_Hours</th>\n",
       "      <th>Previous_Scores</th>\n",
       "      <th>Motivation_Level</th>\n",
       "      <th>Internet_Access</th>\n",
       "      <th>Tutoring_Sessions</th>\n",
       "      <th>Family_Income</th>\n",
       "      <th>Teacher_Quality</th>\n",
       "      <th>School_Type</th>\n",
       "      <th>Peer_Influence</th>\n",
       "      <th>Physical_Activity</th>\n",
       "      <th>Learning_Disabilities</th>\n",
       "      <th>Parental_Education_Level</th>\n",
       "      <th>Distance_from_Home</th>\n",
       "      <th>Gender</th>\n",
       "      <th>Exam_Score</th>\n",
       "    </tr>\n",
       "  </thead>\n",
       "  <tbody>\n",
       "    <tr>\n",
       "      <th>1525</th>\n",
       "      <td>27</td>\n",
       "      <td>98</td>\n",
       "      <td>Low</td>\n",
       "      <td>Medium</td>\n",
       "      <td>Yes</td>\n",
       "      <td>6</td>\n",
       "      <td>93</td>\n",
       "      <td>Low</td>\n",
       "      <td>No</td>\n",
       "      <td>5</td>\n",
       "      <td>High</td>\n",
       "      <td>High</td>\n",
       "      <td>Public</td>\n",
       "      <td>Positive</td>\n",
       "      <td>3</td>\n",
       "      <td>No</td>\n",
       "      <td>High School</td>\n",
       "      <td>Moderate</td>\n",
       "      <td>Female</td>\n",
       "      <td>101</td>\n",
       "    </tr>\n",
       "  </tbody>\n",
       "</table>\n",
       "</div>"
      ],
      "text/plain": [
       "      Hours_Studied  Attendance Parental_Involvement Access_to_Resources  \\\n",
       "1525             27          98                  Low              Medium   \n",
       "\n",
       "     Extracurricular_Activities  Sleep_Hours  Previous_Scores  \\\n",
       "1525                        Yes            6               93   \n",
       "\n",
       "     Motivation_Level Internet_Access  Tutoring_Sessions Family_Income  \\\n",
       "1525              Low              No                  5          High   \n",
       "\n",
       "     Teacher_Quality School_Type Peer_Influence  Physical_Activity  \\\n",
       "1525            High      Public       Positive                  3   \n",
       "\n",
       "     Learning_Disabilities Parental_Education_Level Distance_from_Home  \\\n",
       "1525                    No              High School           Moderate   \n",
       "\n",
       "      Gender  Exam_Score  \n",
       "1525  Female         101  "
      ]
     },
     "execution_count": 13,
     "metadata": {},
     "output_type": "execute_result"
    }
   ],
   "source": [
    "#נחפש את השורות שהערך שלהן בציון המבחן הסופי מעל 100\n",
    "df.query(\"Exam_Score>100\")"
   ]
  },
  {
   "cell_type": "code",
   "execution_count": 6,
   "id": "70092f2f-0a84-402a-9cd6-6fd1e00792c8",
   "metadata": {},
   "outputs": [
    {
     "name": "stderr",
     "output_type": "stream",
     "text": [
      "C:\\Users\\corot\\AppData\\Local\\Temp\\ipykernel_30440\\4186891393.py:3: FutureWarning: A value is trying to be set on a copy of a DataFrame or Series through chained assignment using an inplace method.\n",
      "The behavior will change in pandas 3.0. This inplace method will never work because the intermediate object on which we are setting values always behaves as a copy.\n",
      "\n",
      "For example, when doing 'df[col].method(value, inplace=True)', try using 'df.method({col: value}, inplace=True)' or df[col] = df[col].method(value) instead, to perform the operation inplace on the original object.\n",
      "\n",
      "\n",
      "  df.Exam_Score.replace(101,100,inplace=True)\n"
     ]
    }
   ],
   "source": [
    "#נחליף את הערך 101 ב100 בשורות בהן ערך הציון במבחן הסופי הוא 101\n",
    "#ראינו שיש רק שורה אחת עם ערך 101 בציון המבחן הסופי\n",
    "df.Exam_Score.replace(101,100,inplace=True)"
   ]
  },
  {
   "cell_type": "code",
   "execution_count": 15,
   "id": "7babb601-381e-4f25-aebf-669eb189ea3c",
   "metadata": {},
   "outputs": [
    {
     "data": {
      "text/html": [
       "<div>\n",
       "<style scoped>\n",
       "    .dataframe tbody tr th:only-of-type {\n",
       "        vertical-align: middle;\n",
       "    }\n",
       "\n",
       "    .dataframe tbody tr th {\n",
       "        vertical-align: top;\n",
       "    }\n",
       "\n",
       "    .dataframe thead th {\n",
       "        text-align: right;\n",
       "    }\n",
       "</style>\n",
       "<table border=\"1\" class=\"dataframe\">\n",
       "  <thead>\n",
       "    <tr style=\"text-align: right;\">\n",
       "      <th></th>\n",
       "      <th>Hours_Studied</th>\n",
       "      <th>Attendance</th>\n",
       "      <th>Sleep_Hours</th>\n",
       "      <th>Previous_Scores</th>\n",
       "      <th>Tutoring_Sessions</th>\n",
       "      <th>Physical_Activity</th>\n",
       "      <th>Exam_Score</th>\n",
       "    </tr>\n",
       "  </thead>\n",
       "  <tbody>\n",
       "    <tr>\n",
       "      <th>count</th>\n",
       "      <td>6607.000000</td>\n",
       "      <td>6607.000000</td>\n",
       "      <td>6607.00000</td>\n",
       "      <td>6607.000000</td>\n",
       "      <td>6607.000000</td>\n",
       "      <td>6607.000000</td>\n",
       "      <td>6607.000000</td>\n",
       "    </tr>\n",
       "    <tr>\n",
       "      <th>mean</th>\n",
       "      <td>19.975329</td>\n",
       "      <td>79.977448</td>\n",
       "      <td>7.02906</td>\n",
       "      <td>75.070531</td>\n",
       "      <td>1.493719</td>\n",
       "      <td>2.967610</td>\n",
       "      <td>67.235508</td>\n",
       "    </tr>\n",
       "    <tr>\n",
       "      <th>std</th>\n",
       "      <td>5.990594</td>\n",
       "      <td>11.547475</td>\n",
       "      <td>1.46812</td>\n",
       "      <td>14.399784</td>\n",
       "      <td>1.230570</td>\n",
       "      <td>1.031231</td>\n",
       "      <td>3.889161</td>\n",
       "    </tr>\n",
       "    <tr>\n",
       "      <th>min</th>\n",
       "      <td>1.000000</td>\n",
       "      <td>60.000000</td>\n",
       "      <td>4.00000</td>\n",
       "      <td>50.000000</td>\n",
       "      <td>0.000000</td>\n",
       "      <td>0.000000</td>\n",
       "      <td>55.000000</td>\n",
       "    </tr>\n",
       "    <tr>\n",
       "      <th>25%</th>\n",
       "      <td>16.000000</td>\n",
       "      <td>70.000000</td>\n",
       "      <td>6.00000</td>\n",
       "      <td>63.000000</td>\n",
       "      <td>1.000000</td>\n",
       "      <td>2.000000</td>\n",
       "      <td>65.000000</td>\n",
       "    </tr>\n",
       "    <tr>\n",
       "      <th>50%</th>\n",
       "      <td>20.000000</td>\n",
       "      <td>80.000000</td>\n",
       "      <td>7.00000</td>\n",
       "      <td>75.000000</td>\n",
       "      <td>1.000000</td>\n",
       "      <td>3.000000</td>\n",
       "      <td>67.000000</td>\n",
       "    </tr>\n",
       "    <tr>\n",
       "      <th>75%</th>\n",
       "      <td>24.000000</td>\n",
       "      <td>90.000000</td>\n",
       "      <td>8.00000</td>\n",
       "      <td>88.000000</td>\n",
       "      <td>2.000000</td>\n",
       "      <td>4.000000</td>\n",
       "      <td>69.000000</td>\n",
       "    </tr>\n",
       "    <tr>\n",
       "      <th>max</th>\n",
       "      <td>44.000000</td>\n",
       "      <td>100.000000</td>\n",
       "      <td>10.00000</td>\n",
       "      <td>100.000000</td>\n",
       "      <td>8.000000</td>\n",
       "      <td>6.000000</td>\n",
       "      <td>100.000000</td>\n",
       "    </tr>\n",
       "  </tbody>\n",
       "</table>\n",
       "</div>"
      ],
      "text/plain": [
       "       Hours_Studied   Attendance  Sleep_Hours  Previous_Scores  \\\n",
       "count    6607.000000  6607.000000   6607.00000      6607.000000   \n",
       "mean       19.975329    79.977448      7.02906        75.070531   \n",
       "std         5.990594    11.547475      1.46812        14.399784   \n",
       "min         1.000000    60.000000      4.00000        50.000000   \n",
       "25%        16.000000    70.000000      6.00000        63.000000   \n",
       "50%        20.000000    80.000000      7.00000        75.000000   \n",
       "75%        24.000000    90.000000      8.00000        88.000000   \n",
       "max        44.000000   100.000000     10.00000       100.000000   \n",
       "\n",
       "       Tutoring_Sessions  Physical_Activity   Exam_Score  \n",
       "count        6607.000000        6607.000000  6607.000000  \n",
       "mean            1.493719           2.967610    67.235508  \n",
       "std             1.230570           1.031231     3.889161  \n",
       "min             0.000000           0.000000    55.000000  \n",
       "25%             1.000000           2.000000    65.000000  \n",
       "50%             1.000000           3.000000    67.000000  \n",
       "75%             2.000000           4.000000    69.000000  \n",
       "max             8.000000           6.000000   100.000000  "
      ]
     },
     "execution_count": 15,
     "metadata": {},
     "output_type": "execute_result"
    }
   ],
   "source": [
    "df.describe()"
   ]
  },
  {
   "cell_type": "markdown",
   "id": "ba55b46a-8f35-4bdb-88b6-1c18fdb1e5ae",
   "metadata": {},
   "source": [
    "נוכל לראות שכעת הערך המקסימלי לאחר ההחלפה בציון המבחן הוא 100 ולא 101 כמו קודם לכן"
   ]
  },
  {
   "cell_type": "markdown",
   "id": "827a667d-1118-4a27-be41-fdb088810277",
   "metadata": {},
   "source": [
    "**טיפול בערכי Null**"
   ]
  },
  {
   "cell_type": "code",
   "execution_count": 33,
   "id": "e90c86f1-a7ba-40ba-b56b-721229ce0779",
   "metadata": {},
   "outputs": [],
   "source": [
    "#נבדוק מה הערך השכיח ביותר ברמת המורים\n",
    "#נבדוק שאין יותר מערך שכיח אחד\n",
    "top_Teacher_Quality=df.Teacher_Quality.mode()"
   ]
  },
  {
   "cell_type": "code",
   "execution_count": 34,
   "id": "71d918cf-95cc-4967-89aa-c45bc1009277",
   "metadata": {},
   "outputs": [
    {
     "data": {
      "text/plain": [
       "0    Medium\n",
       "Name: Teacher_Quality, dtype: object"
      ]
     },
     "execution_count": 34,
     "metadata": {},
     "output_type": "execute_result"
    }
   ],
   "source": [
    "top_Teacher_Quality"
   ]
  },
  {
   "cell_type": "code",
   "execution_count": 35,
   "id": "b77df532-dd15-4c24-a099-5373a0d0e7e4",
   "metadata": {},
   "outputs": [],
   "source": [
    "#יצא ערך שכיח יחיד, נקח אותו\n",
    "top_Teacher_Quality=df.Teacher_Quality.mode()[0]"
   ]
  },
  {
   "cell_type": "code",
   "execution_count": 36,
   "id": "2d407c78-9343-4a51-aff1-420e9bc5ae6e",
   "metadata": {},
   "outputs": [
    {
     "data": {
      "text/plain": [
       "'Medium'"
      ]
     },
     "execution_count": 36,
     "metadata": {},
     "output_type": "execute_result"
    }
   ],
   "source": [
    "top_Teacher_Quality"
   ]
  },
  {
   "cell_type": "code",
   "execution_count": 37,
   "id": "3e19653f-4a0d-4fac-9911-d9c250e65777",
   "metadata": {},
   "outputs": [],
   "source": [
    "#נחליף ערכים ריקים בעמודה של רמת המורים ברמת המורים השכיחה ביותר\n",
    "df[\"Teacher_Quality\"] = df[\"Teacher_Quality\"].fillna(top_Teacher_Quality)"
   ]
  },
  {
   "cell_type": "code",
   "execution_count": 39,
   "id": "b6c8a1dd-1638-479a-8934-7a5af679449c",
   "metadata": {},
   "outputs": [],
   "source": [
    "#נבדוק מה הערך השכיח ביותר ברמת השכלה של ההורים\n",
    "#נבדוק שאין יותר מערך שכיח אחד\n",
    "top_Parental_Education_Level=df.Parental_Education_Level.mode()"
   ]
  },
  {
   "cell_type": "code",
   "execution_count": 40,
   "id": "d49376a4-7890-47f8-ace5-0c1b6da05355",
   "metadata": {},
   "outputs": [
    {
     "data": {
      "text/plain": [
       "0    High School\n",
       "Name: Parental_Education_Level, dtype: object"
      ]
     },
     "execution_count": 40,
     "metadata": {},
     "output_type": "execute_result"
    }
   ],
   "source": [
    "top_Parental_Education_Level"
   ]
  },
  {
   "cell_type": "code",
   "execution_count": 41,
   "id": "aaedb419-7676-488f-9865-50a9a8aa1002",
   "metadata": {},
   "outputs": [],
   "source": [
    "#יצא ערך שכיח יחיד, נקח אותו\n",
    "top_Parental_Education_Level=df.Parental_Education_Level.mode()[0]"
   ]
  },
  {
   "cell_type": "code",
   "execution_count": 42,
   "id": "ef9d6fcd-d78e-47b5-a465-a19ea970f5a2",
   "metadata": {},
   "outputs": [
    {
     "data": {
      "text/plain": [
       "'High School'"
      ]
     },
     "execution_count": 42,
     "metadata": {},
     "output_type": "execute_result"
    }
   ],
   "source": [
    "top_Parental_Education_Level"
   ]
  },
  {
   "cell_type": "code",
   "execution_count": 43,
   "id": "eb1ccc4d-a871-4618-93d3-0706cc3dd7ae",
   "metadata": {},
   "outputs": [],
   "source": [
    "#נחליף ערכים ריקים בעמודה של רמת השכלת הורים ברמת ההשכלה השכיחה ביותר\n",
    "df[\"Parental_Education_Level\"] = df[\"Parental_Education_Level\"].fillna(top_Parental_Education_Level)"
   ]
  },
  {
   "cell_type": "code",
   "execution_count": 45,
   "id": "4146eda5-083f-452f-b9a8-a37e78d5ca2e",
   "metadata": {},
   "outputs": [],
   "source": [
    "#נבדוק מה הערך השכיח ביותר במרחק מהבית\n",
    "#נבדוק שאין יותר מערך שכיח אחד\n",
    "top_Distance_from_Home=df.Distance_from_Home.mode()"
   ]
  },
  {
   "cell_type": "code",
   "execution_count": 46,
   "id": "20a6c913-978a-4094-9cb8-ca56bae9282c",
   "metadata": {},
   "outputs": [
    {
     "data": {
      "text/plain": [
       "0    Near\n",
       "Name: Distance_from_Home, dtype: object"
      ]
     },
     "execution_count": 46,
     "metadata": {},
     "output_type": "execute_result"
    }
   ],
   "source": [
    "top_Distance_from_Home"
   ]
  },
  {
   "cell_type": "code",
   "execution_count": 47,
   "id": "ac0b7f9d-17fd-4808-b820-f505ee098408",
   "metadata": {},
   "outputs": [],
   "source": [
    "#יצא ערך שכיח יחיד, נקח אותו\n",
    "top_Distance_from_Home=df.Distance_from_Home.mode()[0]"
   ]
  },
  {
   "cell_type": "code",
   "execution_count": 48,
   "id": "1eb3a644-82c2-4ed9-be4d-579da8f024ef",
   "metadata": {},
   "outputs": [
    {
     "data": {
      "text/plain": [
       "'Near'"
      ]
     },
     "execution_count": 48,
     "metadata": {},
     "output_type": "execute_result"
    }
   ],
   "source": [
    "top_Distance_from_Home"
   ]
  },
  {
   "cell_type": "code",
   "execution_count": 49,
   "id": "9959fd61-f6e4-4638-983e-7ab8329a56e6",
   "metadata": {},
   "outputs": [],
   "source": [
    "#נחליף ערכים ריקים בעמודה של מרחק מהבית במרחק מהבית השכיח ביותר\n",
    "df[\"Distance_from_Home\"] = df[\"Distance_from_Home\"].fillna(top_Distance_from_Home)"
   ]
  },
  {
   "cell_type": "code",
   "execution_count": 50,
   "id": "39eee533-e2c3-43ec-bee8-03f449847658",
   "metadata": {},
   "outputs": [
    {
     "name": "stdout",
     "output_type": "stream",
     "text": [
      "<class 'pandas.core.frame.DataFrame'>\n",
      "RangeIndex: 6607 entries, 0 to 6606\n",
      "Data columns (total 20 columns):\n",
      " #   Column                      Non-Null Count  Dtype \n",
      "---  ------                      --------------  ----- \n",
      " 0   Hours_Studied               6607 non-null   int64 \n",
      " 1   Attendance                  6607 non-null   int64 \n",
      " 2   Parental_Involvement        6607 non-null   object\n",
      " 3   Access_to_Resources         6607 non-null   object\n",
      " 4   Extracurricular_Activities  6607 non-null   object\n",
      " 5   Sleep_Hours                 6607 non-null   int64 \n",
      " 6   Previous_Scores             6607 non-null   int64 \n",
      " 7   Motivation_Level            6607 non-null   object\n",
      " 8   Internet_Access             6607 non-null   object\n",
      " 9   Tutoring_Sessions           6607 non-null   int64 \n",
      " 10  Family_Income               6607 non-null   object\n",
      " 11  Teacher_Quality             6607 non-null   object\n",
      " 12  School_Type                 6607 non-null   object\n",
      " 13  Peer_Influence              6607 non-null   object\n",
      " 14  Physical_Activity           6607 non-null   int64 \n",
      " 15  Learning_Disabilities       6607 non-null   object\n",
      " 16  Parental_Education_Level    6607 non-null   object\n",
      " 17  Distance_from_Home          6607 non-null   object\n",
      " 18  Gender                      6607 non-null   object\n",
      " 19  Exam_Score                  6607 non-null   int64 \n",
      "dtypes: int64(7), object(13)\n",
      "memory usage: 1.0+ MB\n"
     ]
    }
   ],
   "source": [
    "df.info()"
   ]
  },
  {
   "cell_type": "markdown",
   "id": "399806e9-f58d-4624-8896-15b7cc22d64d",
   "metadata": {},
   "source": [
    "לאחר כל ההחלפות האחרונות נוכל לראות שאין ערכים ריקים יותר בטבלה"
   ]
  },
  {
   "cell_type": "markdown",
   "id": "9e53cf10-8a3f-442f-a5f4-d4bda9c9bc10",
   "metadata": {},
   "source": [
    "**ניתוח מתקדם**"
   ]
  },
  {
   "cell_type": "code",
   "execution_count": 62,
   "id": "60c861e2-cf24-4616-acc2-3f1fc531c324",
   "metadata": {},
   "outputs": [
    {
     "data": {
      "text/html": [
       "<div>\n",
       "<style scoped>\n",
       "    .dataframe tbody tr th:only-of-type {\n",
       "        vertical-align: middle;\n",
       "    }\n",
       "\n",
       "    .dataframe tbody tr th {\n",
       "        vertical-align: top;\n",
       "    }\n",
       "\n",
       "    .dataframe thead th {\n",
       "        text-align: right;\n",
       "    }\n",
       "</style>\n",
       "<table border=\"1\" class=\"dataframe\">\n",
       "  <thead>\n",
       "    <tr style=\"text-align: right;\">\n",
       "      <th></th>\n",
       "      <th>Exam_Score</th>\n",
       "    </tr>\n",
       "    <tr>\n",
       "      <th>School_Type</th>\n",
       "      <th></th>\n",
       "    </tr>\n",
       "  </thead>\n",
       "  <tbody>\n",
       "    <tr>\n",
       "      <th>Private</th>\n",
       "      <td>67.287705</td>\n",
       "    </tr>\n",
       "    <tr>\n",
       "      <th>Public</th>\n",
       "      <td>67.212701</td>\n",
       "    </tr>\n",
       "  </tbody>\n",
       "</table>\n",
       "</div>"
      ],
      "text/plain": [
       "             Exam_Score\n",
       "School_Type            \n",
       "Private       67.287705\n",
       "Public        67.212701"
      ]
     },
     "execution_count": 62,
     "metadata": {},
     "output_type": "execute_result"
    }
   ],
   "source": [
    "#נבדוק ממוצע ציונים במבחן סופי לפי סוג בית הספר\n",
    "average_score_by_school = df.groupby('School_Type')['Exam_Score'].mean()\n",
    "average_score_by_school.to_frame()"
   ]
  },
  {
   "cell_type": "markdown",
   "id": "abde9bb6-8cbb-4bdc-8e45-33a13999b8b3",
   "metadata": {},
   "source": [
    "נוכל להסיק מהתוצאות שהפער בין ממוצע הציונים במבחן הסופי בבית ספר פרטי לבין בית ספר ציבורי זניח ביותר - ממוצע הציונים בבית ספר פרטי ממש במעט גבוהים יותר "
   ]
  },
  {
   "cell_type": "code",
   "execution_count": 69,
   "id": "10fb97d0-45c9-47d4-99ce-cfe3621da1d0",
   "metadata": {},
   "outputs": [
    {
     "data": {
      "text/html": [
       "<div>\n",
       "<style scoped>\n",
       "    .dataframe tbody tr th:only-of-type {\n",
       "        vertical-align: middle;\n",
       "    }\n",
       "\n",
       "    .dataframe tbody tr th {\n",
       "        vertical-align: top;\n",
       "    }\n",
       "\n",
       "    .dataframe thead th {\n",
       "        text-align: right;\n",
       "    }\n",
       "</style>\n",
       "<table border=\"1\" class=\"dataframe\">\n",
       "  <thead>\n",
       "    <tr style=\"text-align: right;\">\n",
       "      <th></th>\n",
       "      <th></th>\n",
       "      <th>Exam_Score</th>\n",
       "    </tr>\n",
       "    <tr>\n",
       "      <th>Gender</th>\n",
       "      <th>School_Type</th>\n",
       "      <th></th>\n",
       "    </tr>\n",
       "  </thead>\n",
       "  <tbody>\n",
       "    <tr>\n",
       "      <th rowspan=\"2\" valign=\"top\">Female</th>\n",
       "      <th>Private</th>\n",
       "      <td>67.300119</td>\n",
       "    </tr>\n",
       "    <tr>\n",
       "      <th>Public</th>\n",
       "      <td>67.220513</td>\n",
       "    </tr>\n",
       "    <tr>\n",
       "      <th rowspan=\"2\" valign=\"top\">Male</th>\n",
       "      <th>Private</th>\n",
       "      <td>67.278731</td>\n",
       "    </tr>\n",
       "    <tr>\n",
       "      <th>Public</th>\n",
       "      <td>67.206949</td>\n",
       "    </tr>\n",
       "  </tbody>\n",
       "</table>\n",
       "</div>"
      ],
      "text/plain": [
       "                    Exam_Score\n",
       "Gender School_Type            \n",
       "Female Private       67.300119\n",
       "       Public        67.220513\n",
       "Male   Private       67.278731\n",
       "       Public        67.206949"
      ]
     },
     "execution_count": 69,
     "metadata": {},
     "output_type": "execute_result"
    }
   ],
   "source": [
    "#נבדוק ממוצע ציונים במבחן סופי לפי מגדר וסוג בית ספר\n",
    "average_score_by_gender_school = df.groupby(['Gender', 'School_Type'])['Exam_Score'].mean()\n",
    "average_score_by_gender_school.to_frame()"
   ]
  },
  {
   "cell_type": "markdown",
   "id": "569784f2-9a39-4f7f-be84-d2e92f1d9b3c",
   "metadata": {},
   "source": [
    "נוכל להסיק מהתוצאות שממוצע הציונים של נשים במבחן הסופי טיפה יותר גבוה מאשר של גברים הן בבית ספר פרטי והן בציבורי ובתוך שתי קבוצות המגדר ממוצע הציונים בבית ספר פרטי טיפה גבוה יותר (ראינו גם בניתוח הקודם) אך שוב, באופן זניח ביותר"
   ]
  },
  {
   "cell_type": "code",
   "execution_count": 105,
   "id": "4c3ee22b-477a-46a4-beb8-ded99e065710",
   "metadata": {},
   "outputs": [
    {
     "data": {
      "text/html": [
       "<div>\n",
       "<style scoped>\n",
       "    .dataframe tbody tr th:only-of-type {\n",
       "        vertical-align: middle;\n",
       "    }\n",
       "\n",
       "    .dataframe tbody tr th {\n",
       "        vertical-align: top;\n",
       "    }\n",
       "\n",
       "    .dataframe thead th {\n",
       "        text-align: right;\n",
       "    }\n",
       "</style>\n",
       "<table border=\"1\" class=\"dataframe\">\n",
       "  <thead>\n",
       "    <tr style=\"text-align: right;\">\n",
       "      <th></th>\n",
       "      <th>mean</th>\n",
       "      <th>min</th>\n",
       "      <th>max</th>\n",
       "    </tr>\n",
       "    <tr>\n",
       "      <th>Internet_Access</th>\n",
       "      <th></th>\n",
       "      <th></th>\n",
       "      <th></th>\n",
       "    </tr>\n",
       "  </thead>\n",
       "  <tbody>\n",
       "    <tr>\n",
       "      <th>No</th>\n",
       "      <td>19.869739</td>\n",
       "      <td>4</td>\n",
       "      <td>39</td>\n",
       "    </tr>\n",
       "    <tr>\n",
       "      <th>Yes</th>\n",
       "      <td>19.983955</td>\n",
       "      <td>1</td>\n",
       "      <td>44</td>\n",
       "    </tr>\n",
       "  </tbody>\n",
       "</table>\n",
       "</div>"
      ],
      "text/plain": [
       "                      mean  min  max\n",
       "Internet_Access                     \n",
       "No               19.869739    4   39\n",
       "Yes              19.983955    1   44"
      ]
     },
     "execution_count": 105,
     "metadata": {},
     "output_type": "execute_result"
    }
   ],
   "source": [
    "#נבדוק ממוצע, מקסימום ומינימום של שעות לימוד לפי גישה לאינטרנט - יש או אין\n",
    "study_Hours_by_internetA = df.groupby('Internet_Access')['Hours_Studied'].agg(['mean', 'min', 'max'])\n",
    "study_Hours_by_internetA"
   ]
  },
  {
   "cell_type": "markdown",
   "id": "f04681fc-c1a9-4d6f-9e79-f3d0decaaa69",
   "metadata": {},
   "source": [
    "נוכל להסיק מהתוצאות שממוצע שעות הלימוד גבוה יותר כאשר יש גישה לאינרנט. בנוסף, נוכל להסיק כי מספר השעות המינימלי כאשר יש גישה לאינטרנט קטן יותר והמקסימלי גדול יותר מאשר כאשר אין גישה לאינטרנט"
   ]
  },
  {
   "cell_type": "code",
   "execution_count": 94,
   "id": "bf18a8b6-723a-4970-a2b8-50eb02b84c80",
   "metadata": {},
   "outputs": [
    {
     "data": {
      "text/html": [
       "<div>\n",
       "<style scoped>\n",
       "    .dataframe tbody tr th:only-of-type {\n",
       "        vertical-align: middle;\n",
       "    }\n",
       "\n",
       "    .dataframe tbody tr th {\n",
       "        vertical-align: top;\n",
       "    }\n",
       "\n",
       "    .dataframe thead th {\n",
       "        text-align: right;\n",
       "    }\n",
       "</style>\n",
       "<table border=\"1\" class=\"dataframe\">\n",
       "  <thead>\n",
       "    <tr style=\"text-align: right;\">\n",
       "      <th></th>\n",
       "      <th>Exam_Score</th>\n",
       "      <th>Hours_Studied</th>\n",
       "    </tr>\n",
       "    <tr>\n",
       "      <th>Learning_Disabilities</th>\n",
       "      <th></th>\n",
       "      <th></th>\n",
       "    </tr>\n",
       "  </thead>\n",
       "  <tbody>\n",
       "    <tr>\n",
       "      <th>No</th>\n",
       "      <td>67.348951</td>\n",
       "      <td>20.004905</td>\n",
       "    </tr>\n",
       "    <tr>\n",
       "      <th>Yes</th>\n",
       "      <td>66.270504</td>\n",
       "      <td>19.723741</td>\n",
       "    </tr>\n",
       "  </tbody>\n",
       "</table>\n",
       "</div>"
      ],
      "text/plain": [
       "                       Exam_Score  Hours_Studied\n",
       "Learning_Disabilities                           \n",
       "No                      67.348951      20.004905\n",
       "Yes                     66.270504      19.723741"
      ]
     },
     "execution_count": 94,
     "metadata": {},
     "output_type": "execute_result"
    }
   ],
   "source": [
    "#נבדוק ממוצע ציונים במבחן סופי ושעות לימוד לפי בעיות למידה - יש או אין  \n",
    "learning_disabilities = df.groupby('Learning_Disabilities').agg({'Exam_Score': 'mean','Hours_Studied': 'mean'})\n",
    "learning_disabilities   "
   ]
  },
  {
   "cell_type": "markdown",
   "id": "89c68f22-b6f1-4ece-a694-0cbd87bb90e0",
   "metadata": {},
   "source": [
    "נוכל להסיק מהתוצאות שממוצע הציונים במבחן הסופי של תלמידים עם בעיות למידה נמוך יותר מאשר של מי שאין לו בעיות למידה ובהתאמה גם ממוצע שעות הלימוד של התלמידים בעלי בעיות למידה קטן יותר מאשר של אלו ללא בעיות למידה  "
   ]
  },
  {
   "cell_type": "code",
   "execution_count": 88,
   "id": "9a5e765d-6334-40a1-b27f-6937b2c80868",
   "metadata": {},
   "outputs": [
    {
     "data": {
      "text/html": [
       "<div>\n",
       "<style scoped>\n",
       "    .dataframe tbody tr th:only-of-type {\n",
       "        vertical-align: middle;\n",
       "    }\n",
       "\n",
       "    .dataframe tbody tr th {\n",
       "        vertical-align: top;\n",
       "    }\n",
       "\n",
       "    .dataframe thead th {\n",
       "        text-align: right;\n",
       "    }\n",
       "</style>\n",
       "<table border=\"1\" class=\"dataframe\">\n",
       "  <thead>\n",
       "    <tr style=\"text-align: right;\">\n",
       "      <th>Family_Income</th>\n",
       "      <th>High</th>\n",
       "      <th>Low</th>\n",
       "      <th>Medium</th>\n",
       "    </tr>\n",
       "    <tr>\n",
       "      <th>School_Type</th>\n",
       "      <th></th>\n",
       "      <th></th>\n",
       "      <th></th>\n",
       "    </tr>\n",
       "  </thead>\n",
       "  <tbody>\n",
       "    <tr>\n",
       "      <th>Private</th>\n",
       "      <td>373</td>\n",
       "      <td>833</td>\n",
       "      <td>803</td>\n",
       "    </tr>\n",
       "    <tr>\n",
       "      <th>Public</th>\n",
       "      <td>896</td>\n",
       "      <td>1839</td>\n",
       "      <td>1863</td>\n",
       "    </tr>\n",
       "  </tbody>\n",
       "</table>\n",
       "</div>"
      ],
      "text/plain": [
       "Family_Income  High   Low  Medium\n",
       "School_Type                      \n",
       "Private         373   833     803\n",
       "Public          896  1839    1863"
      ]
     },
     "execution_count": 88,
     "metadata": {},
     "output_type": "execute_result"
    }
   ],
   "source": [
    "#נבדוק כמות תלמידים לפי רמות הכנסת הורים בסוגי בתי הספר השונים\n",
    "pivot_table = pd.pivot_table(df, index='School_Type', columns='Family_Income', aggfunc='count', values='Gender')\n",
    "pivot_table"
   ]
  },
  {
   "cell_type": "markdown",
   "id": "50e85d6d-3322-4812-9776-005841488cdb",
   "metadata": {},
   "source": [
    "נוכל להסיק מהתוצאות שבבתי ספר ציבוריים רוב התלמידים באים מרקע של הורים בעלי הכנסה נמוכה או בינונית וכך גם בבתי ספר פרטיים ובכלל באופן כללי לא ללא תלות ברמת הכנסה של הורים  רוב התלמידים לומדים בבתי ספר ציבוריים ופחות לומדים בבתי ספר פרטיים"
   ]
  },
  {
   "cell_type": "code",
   "execution_count": 106,
   "id": "1d2c560c-84d6-4621-89c0-222232e0aed9",
   "metadata": {},
   "outputs": [
    {
     "data": {
      "text/html": [
       "<div>\n",
       "<style scoped>\n",
       "    .dataframe tbody tr th:only-of-type {\n",
       "        vertical-align: middle;\n",
       "    }\n",
       "\n",
       "    .dataframe tbody tr th {\n",
       "        vertical-align: top;\n",
       "    }\n",
       "\n",
       "    .dataframe thead th {\n",
       "        text-align: right;\n",
       "    }\n",
       "</style>\n",
       "<table border=\"1\" class=\"dataframe\">\n",
       "  <thead>\n",
       "    <tr style=\"text-align: right;\">\n",
       "      <th></th>\n",
       "      <th>Exam_Score</th>\n",
       "    </tr>\n",
       "    <tr>\n",
       "      <th>Peer_Influence</th>\n",
       "      <th></th>\n",
       "    </tr>\n",
       "  </thead>\n",
       "  <tbody>\n",
       "    <tr>\n",
       "      <th>Negative</th>\n",
       "      <td>66.564270</td>\n",
       "    </tr>\n",
       "    <tr>\n",
       "      <th>Neutral</th>\n",
       "      <td>67.197917</td>\n",
       "    </tr>\n",
       "    <tr>\n",
       "      <th>Positive</th>\n",
       "      <td>67.622820</td>\n",
       "    </tr>\n",
       "  </tbody>\n",
       "</table>\n",
       "</div>"
      ],
      "text/plain": [
       "                Exam_Score\n",
       "Peer_Influence            \n",
       "Negative         66.564270\n",
       "Neutral          67.197917\n",
       "Positive         67.622820"
      ]
     },
     "execution_count": 106,
     "metadata": {},
     "output_type": "execute_result"
    }
   ],
   "source": [
    "#נבדוק ממוצע ציון במבחן הסופי לפי סוג השפעת חברים \n",
    "Exam_Score_by_Peer_Influence = df.groupby('Peer_Influence')['Exam_Score'].mean()\n",
    "Exam_Score_by_Peer_Influence.to_frame()"
   ]
  },
  {
   "cell_type": "markdown",
   "id": "2d69fb7e-ba12-4118-b4b3-0a0205c041bf",
   "metadata": {},
   "source": [
    "נוכל להסיק מהתוצאות שכאשר יש השפעה שלילית של חברים ממוצע הציונים במבחן הסופי נמוך יותר מאשר כאשר ההשפעה ניטרלית או חיובית "
   ]
  },
  {
   "cell_type": "code",
   "execution_count": 107,
   "id": "21ba5667-4fa3-4f3d-9247-3648fb95d3a7",
   "metadata": {},
   "outputs": [
    {
     "data": {
      "text/html": [
       "<div>\n",
       "<style scoped>\n",
       "    .dataframe tbody tr th:only-of-type {\n",
       "        vertical-align: middle;\n",
       "    }\n",
       "\n",
       "    .dataframe tbody tr th {\n",
       "        vertical-align: top;\n",
       "    }\n",
       "\n",
       "    .dataframe thead th {\n",
       "        text-align: right;\n",
       "    }\n",
       "</style>\n",
       "<table border=\"1\" class=\"dataframe\">\n",
       "  <thead>\n",
       "    <tr style=\"text-align: right;\">\n",
       "      <th></th>\n",
       "      <th>Exam_Score</th>\n",
       "    </tr>\n",
       "    <tr>\n",
       "      <th>Teacher_Quality</th>\n",
       "      <th></th>\n",
       "    </tr>\n",
       "  </thead>\n",
       "  <tbody>\n",
       "    <tr>\n",
       "      <th>High</th>\n",
       "      <td>67.676425</td>\n",
       "    </tr>\n",
       "    <tr>\n",
       "      <th>Low</th>\n",
       "      <td>66.753425</td>\n",
       "    </tr>\n",
       "    <tr>\n",
       "      <th>Medium</th>\n",
       "      <td>67.100175</td>\n",
       "    </tr>\n",
       "  </tbody>\n",
       "</table>\n",
       "</div>"
      ],
      "text/plain": [
       "                 Exam_Score\n",
       "Teacher_Quality            \n",
       "High              67.676425\n",
       "Low               66.753425\n",
       "Medium            67.100175"
      ]
     },
     "execution_count": 107,
     "metadata": {},
     "output_type": "execute_result"
    }
   ],
   "source": [
    "#נבדוק ממוצע ציון במבחן הסופי לפי רמת מורים\n",
    "Exam_Score_by_Teacher_Quality = df.groupby('Teacher_Quality')['Exam_Score'].mean()\n",
    "Exam_Score_by_Teacher_Quality.to_frame()"
   ]
  },
  {
   "cell_type": "markdown",
   "id": "d59f03e9-f634-46eb-b18c-6258927f2960",
   "metadata": {},
   "source": [
    "נוכל להסיק מהתוצאות שכאשר רמת המורים נמוכה ממוצע הציונים במבחן הסופי של התלמידים נמוכה ביחס לממוצע ציונים של התלמידים כאשר רמת המורים בינונית וגבוה. הציונים הגבוהים ביותר הם כאשר רמת המרצים גבוה"
   ]
  },
  {
   "cell_type": "code",
   "execution_count": 32,
   "id": "c0a85d4b-6421-46e8-982e-60ad0c1c07a2",
   "metadata": {},
   "outputs": [
    {
     "data": {
      "text/html": [
       "<div>\n",
       "<style scoped>\n",
       "    .dataframe tbody tr th:only-of-type {\n",
       "        vertical-align: middle;\n",
       "    }\n",
       "\n",
       "    .dataframe tbody tr th {\n",
       "        vertical-align: top;\n",
       "    }\n",
       "\n",
       "    .dataframe thead th {\n",
       "        text-align: right;\n",
       "    }\n",
       "</style>\n",
       "<table border=\"1\" class=\"dataframe\">\n",
       "  <thead>\n",
       "    <tr style=\"text-align: right;\">\n",
       "      <th></th>\n",
       "      <th>Exam_Score</th>\n",
       "      <th>Previous_Scores</th>\n",
       "    </tr>\n",
       "    <tr>\n",
       "      <th>Tutoring_Sessions</th>\n",
       "      <th></th>\n",
       "      <th></th>\n",
       "    </tr>\n",
       "  </thead>\n",
       "  <tbody>\n",
       "    <tr>\n",
       "      <th>0</th>\n",
       "      <td>66.489755</td>\n",
       "      <td>75.668209</td>\n",
       "    </tr>\n",
       "    <tr>\n",
       "      <th>1</th>\n",
       "      <td>66.980266</td>\n",
       "      <td>74.816888</td>\n",
       "    </tr>\n",
       "    <tr>\n",
       "      <th>2</th>\n",
       "      <td>67.567010</td>\n",
       "      <td>75.290479</td>\n",
       "    </tr>\n",
       "    <tr>\n",
       "      <th>3</th>\n",
       "      <td>67.894737</td>\n",
       "      <td>74.240431</td>\n",
       "    </tr>\n",
       "    <tr>\n",
       "      <th>4</th>\n",
       "      <td>68.229236</td>\n",
       "      <td>74.235880</td>\n",
       "    </tr>\n",
       "    <tr>\n",
       "      <th>5</th>\n",
       "      <td>69.067961</td>\n",
       "      <td>75.582524</td>\n",
       "    </tr>\n",
       "    <tr>\n",
       "      <th>6</th>\n",
       "      <td>71.666667</td>\n",
       "      <td>82.611111</td>\n",
       "    </tr>\n",
       "    <tr>\n",
       "      <th>7</th>\n",
       "      <td>69.857143</td>\n",
       "      <td>80.714286</td>\n",
       "    </tr>\n",
       "    <tr>\n",
       "      <th>8</th>\n",
       "      <td>69.000000</td>\n",
       "      <td>78.000000</td>\n",
       "    </tr>\n",
       "  </tbody>\n",
       "</table>\n",
       "</div>"
      ],
      "text/plain": [
       "                   Exam_Score  Previous_Scores\n",
       "Tutoring_Sessions                             \n",
       "0                   66.489755        75.668209\n",
       "1                   66.980266        74.816888\n",
       "2                   67.567010        75.290479\n",
       "3                   67.894737        74.240431\n",
       "4                   68.229236        74.235880\n",
       "5                   69.067961        75.582524\n",
       "6                   71.666667        82.611111\n",
       "7                   69.857143        80.714286\n",
       "8                   69.000000        78.000000"
      ]
     },
     "execution_count": 32,
     "metadata": {},
     "output_type": "execute_result"
    }
   ],
   "source": [
    "#נבדוק ממוצע ציונים במבחן הסופי ובמבחנים קודמים ביחס לכמות שעות תגבור\n",
    "Exams_Score_by_Tutoring_Sessions = df.groupby('Tutoring_Sessions').agg({'Exam_Score': 'mean','Previous_Scores': 'mean'})\n",
    "Exams_Score_by_Tutoring_Sessions"
   ]
  },
  {
   "cell_type": "markdown",
   "id": "2c76b44c-9be4-4752-b577-d5dafee82afb",
   "metadata": {},
   "source": [
    "נוכל להסיק מהתוצאות שבממוצע הציונים של המבחן הסופי עד 6 מפגשי תגבור ככל שנעשו יותר מפגשים כך ממוצע הציונים היה גבוה יותר ומ6 והלאה לא הייתה עליה ואף ירידה בממוצע. לעומת זאת, בממוצע ציונים של מבחנים קודמים עד חמישה מפגשים ממוצעי הציונים כמעט אותו הדבר ורק בין 6 ל7 מפגשים רואים עליה בממוצע. ב8 מפגשים יש ירידה בממוצע הציונים ביחס ל6 ו7 מפגשים בציונים במבחנים קודמים"
   ]
  },
  {
   "cell_type": "code",
   "execution_count": 31,
   "id": "e52cd02f-7f1f-4a1a-863a-4854e3191641",
   "metadata": {},
   "outputs": [
    {
     "data": {
      "text/html": [
       "<div>\n",
       "<style scoped>\n",
       "    .dataframe tbody tr th:only-of-type {\n",
       "        vertical-align: middle;\n",
       "    }\n",
       "\n",
       "    .dataframe tbody tr th {\n",
       "        vertical-align: top;\n",
       "    }\n",
       "\n",
       "    .dataframe thead th {\n",
       "        text-align: right;\n",
       "    }\n",
       "</style>\n",
       "<table border=\"1\" class=\"dataframe\">\n",
       "  <thead>\n",
       "    <tr style=\"text-align: right;\">\n",
       "      <th></th>\n",
       "      <th></th>\n",
       "      <th>Attendance</th>\n",
       "    </tr>\n",
       "    <tr>\n",
       "      <th>Motivation_Level</th>\n",
       "      <th>Distance_from_Home</th>\n",
       "      <th></th>\n",
       "    </tr>\n",
       "  </thead>\n",
       "  <tbody>\n",
       "    <tr>\n",
       "      <th rowspan=\"3\" valign=\"top\">High</th>\n",
       "      <th>Far</th>\n",
       "      <td>77.901408</td>\n",
       "    </tr>\n",
       "    <tr>\n",
       "      <th>Moderate</th>\n",
       "      <td>79.469543</td>\n",
       "    </tr>\n",
       "    <tr>\n",
       "      <th>Near</th>\n",
       "      <td>80.231565</td>\n",
       "    </tr>\n",
       "    <tr>\n",
       "      <th rowspan=\"3\" valign=\"top\">Low</th>\n",
       "      <th>Far</th>\n",
       "      <td>79.043243</td>\n",
       "    </tr>\n",
       "    <tr>\n",
       "      <th>Moderate</th>\n",
       "      <td>79.456628</td>\n",
       "    </tr>\n",
       "    <tr>\n",
       "      <th>Near</th>\n",
       "      <td>80.345778</td>\n",
       "    </tr>\n",
       "    <tr>\n",
       "      <th rowspan=\"3\" valign=\"top\">Medium</th>\n",
       "      <th>Far</th>\n",
       "      <td>80.314199</td>\n",
       "    </tr>\n",
       "    <tr>\n",
       "      <th>Moderate</th>\n",
       "      <td>80.251762</td>\n",
       "    </tr>\n",
       "    <tr>\n",
       "      <th>Near</th>\n",
       "      <td>80.042296</td>\n",
       "    </tr>\n",
       "  </tbody>\n",
       "</table>\n",
       "</div>"
      ],
      "text/plain": [
       "                                     Attendance\n",
       "Motivation_Level Distance_from_Home            \n",
       "High             Far                  77.901408\n",
       "                 Moderate             79.469543\n",
       "                 Near                 80.231565\n",
       "Low              Far                  79.043243\n",
       "                 Moderate             79.456628\n",
       "                 Near                 80.345778\n",
       "Medium           Far                  80.314199\n",
       "                 Moderate             80.251762\n",
       "                 Near                 80.042296"
      ]
     },
     "execution_count": 31,
     "metadata": {},
     "output_type": "execute_result"
    }
   ],
   "source": [
    "# נבדוק ממוצע אחוז הגעה לשיעורים לפי מרחק בית הספר לבית התלמיד ולפי רמת מוטיבציה\n",
    "Attendance_by_Distance_from_Home=df.groupby(['Motivation_Level','Distance_from_Home'])['Attendance'].mean()\n",
    "Attendance_by_Distance_from_Home.to_frame()"
   ]
  },
  {
   "cell_type": "markdown",
   "id": "a0da079d-3e0f-49f2-bb45-51a7d39489ca",
   "metadata": {},
   "source": [
    "נוכל להסיק שעבור כל רמות המוטיבציה השוני בשיעור ההשתפות בשיעורים בין המרחקים של בית התלמיד לבית הספר זניח  "
   ]
  },
  {
   "cell_type": "code",
   "execution_count": 119,
   "id": "4b7de6c5-9239-417f-ac44-c73b873d83ed",
   "metadata": {},
   "outputs": [
    {
     "data": {
      "text/html": [
       "<div>\n",
       "<style scoped>\n",
       "    .dataframe tbody tr th:only-of-type {\n",
       "        vertical-align: middle;\n",
       "    }\n",
       "\n",
       "    .dataframe tbody tr th {\n",
       "        vertical-align: top;\n",
       "    }\n",
       "\n",
       "    .dataframe thead th {\n",
       "        text-align: right;\n",
       "    }\n",
       "</style>\n",
       "<table border=\"1\" class=\"dataframe\">\n",
       "  <thead>\n",
       "    <tr style=\"text-align: right;\">\n",
       "      <th>Parental_Involvement</th>\n",
       "      <th>High</th>\n",
       "      <th>Low</th>\n",
       "      <th>Medium</th>\n",
       "    </tr>\n",
       "    <tr>\n",
       "      <th>Parental_Education_Level</th>\n",
       "      <th></th>\n",
       "      <th></th>\n",
       "      <th></th>\n",
       "    </tr>\n",
       "  </thead>\n",
       "  <tbody>\n",
       "    <tr>\n",
       "      <th>College</th>\n",
       "      <td>594</td>\n",
       "      <td>414</td>\n",
       "      <td>981</td>\n",
       "    </tr>\n",
       "    <tr>\n",
       "      <th>High School</th>\n",
       "      <td>949</td>\n",
       "      <td>654</td>\n",
       "      <td>1710</td>\n",
       "    </tr>\n",
       "    <tr>\n",
       "      <th>Postgraduate</th>\n",
       "      <td>365</td>\n",
       "      <td>269</td>\n",
       "      <td>671</td>\n",
       "    </tr>\n",
       "  </tbody>\n",
       "</table>\n",
       "</div>"
      ],
      "text/plain": [
       "Parental_Involvement      High  Low  Medium\n",
       "Parental_Education_Level                   \n",
       "College                    594  414     981\n",
       "High School                949  654    1710\n",
       "Postgraduate               365  269     671"
      ]
     },
     "execution_count": 119,
     "metadata": {},
     "output_type": "execute_result"
    }
   ],
   "source": [
    "#נבדוק רמת התערבות הורית בחיי הילד לפי רמות השכלת ההורים\n",
    "pivot_table2=pd.pivot_table(df, index='Parental_Education_Level', columns='Parental_Involvement', aggfunc='count', values='Gender')\n",
    "pivot_table2"
   ]
  },
  {
   "cell_type": "markdown",
   "id": "783f238e-5394-4bdd-bbba-ebcbeb540581",
   "metadata": {},
   "source": [
    "נוכל להסיק מהתוצאות שרוב ההורים לא משנה מה רמת השכלתם מעדיפים להתערב בצורה מאוזנת (בינונית) בחיי ילדיהם. בנוסף, נוכל לראות שרמת התערבות גבוהה באה לידי ביטוי בעיקר אצל הורים עם רמת השכלה תיכונית"
   ]
  },
  {
   "cell_type": "markdown",
   "id": "2f6302a8-08c0-4c92-a9dd-4c22dfc44849",
   "metadata": {},
   "source": [
    "**ויזואליזציות**"
   ]
  },
  {
   "cell_type": "code",
   "execution_count": 8,
   "id": "c36e07a0-b793-4cb4-a1f3-bbfa916361ba",
   "metadata": {},
   "outputs": [
    {
     "data": {
      "image/png": "[encoded data removed]",
      "text/plain": [
       "<Figure size 1000x600 with 1 Axes>"
      ]
     },
     "metadata": {},
     "output_type": "display_data"
    }
   ],
   "source": [
    "#גרף עמודות כמות תלמידים בבתי ספר שונים לפי רמות הכנסה של משפחתם\n",
    "pastel_colors = sb.color_palette(\"pastel\")\n",
    "sb.set_palette(pastel_colors)\n",
    "plt.figure(figsize=(10, 6))\n",
    "sb.countplot(x='School_Type', hue='Family_Income', data=df)\n",
    "plt.title('Distribution of Family Income by School Type')\n",
    "plt.show()"
   ]
  },
  {
   "cell_type": "markdown",
   "id": "4e112f2d-5e66-4730-aeb0-3bc5a8a966c2",
   "metadata": {},
   "source": [
    "ויזואליזציה זו עונה לנו על **שאלת המחקר הראשונה** שלנו בהמשך לניתוח שביצענו גם קודם לכן בנושא. המסקנות לגבי שאלת המחקר מויזואליזציה זו ומהניתוח הדומה שביצענו הן"
   ]
  },
  {
   "cell_type": "markdown",
   "id": "6406a330-3283-45f9-8887-d72a99b81fa1",
   "metadata": {},
   "source": [
    "1. ניתן לזהות קשר בין סוג בית הספר לבין רמת ההכנסה של המשפחות"
   ]
  },
  {
   "cell_type": "markdown",
   "id": "73790ded-585f-4a43-82fa-4e236a5bee16",
   "metadata": {},
   "source": [
    "2. בבתי ספר ציבוריים – מרבית התלמידים מגיעים ממשפחות בעלות הכנסה נמוכה ובינונית"
   ]
  },
  {
   "cell_type": "markdown",
   "id": "262d098d-95cb-4391-9cea-e21750b2a691",
   "metadata": {},
   "source": [
    "3.  בבתי ספר פרטיים – אמנם גם כאן יש ייצוג למשפחות בעלות הכנסה נמוכה ובינונית, אך באופן יחסי כמותן קטנה יותר מאשר בייצוג שלהן בבתי ספר ציבוריים"
   ]
  },
  {
   "cell_type": "markdown",
   "id": "229a5d47-e7bb-40b9-b9b9-9eefa4742a99",
   "metadata": {},
   "source": [
    "4. משפחות בעלות הכנסה גבוהה אינן מהוות רוב בבתי הספר הפרטיים, מה שעשוי להעיד על כך שסוגי בתי הספר אינם מופרדים באופן מוחלט לפי הכנסה, אך כן קיימת מגמה ברורה של פערים כלכליים"
   ]
  },
  {
   "cell_type": "markdown",
   "id": "24a0db1f-f655-4c9a-b2af-98c2062e383e",
   "metadata": {},
   "source": [
    "לסיכום, נראה שיש קשר בין בין סוג בית הספר (ציבורי או פרטי) לבין רמת ההכנסה של משפחות התלמידים. בתי ספר ציבוריים מאופיינים באחוז גבוה יותר של תלמידים ממשפחות בעלות הכנסה נמוכה ובינונית, בעוד שבבתי ספר פרטיים שיעור התלמידים ממשפחות אלו נמוך יותר. בנוסף, ניתן לראות כי גם בבתי ספר ציבוריים וגם בפרטיים יש ייצוג למשפחות בעלות הכנסה גבוהה, אך מספרן נמוך יחסית. ממצאים אלו עשויים להעיד על כך שהכנסה גבוהה אינה הגורם המרכזי הקובע את הבחירה בין מוסד ציבורי לפרטי, אך כן קיימת מגמה כללית של פערים חברתיים-כלכליים המשפיעים על מערכת החינוך"
   ]
  },
  {
   "cell_type": "code",
   "execution_count": 9,
   "id": "d8e5a51b-b739-44b5-af6e-fd1f44e5a5a2",
   "metadata": {},
   "outputs": [
    {
     "data": {
      "image/png": "[encoded data removed]",
      "text/plain": [
       "<Figure size 800x600 with 1 Axes>"
      ]
     },
     "metadata": {},
     "output_type": "display_data"
    }
   ],
   "source": [
    "# גרף קופסאות של ציונים במבחן הסופי לפי בעיות למידה\n",
    "plt.figure(figsize=(8, 6))\n",
    "sb.boxplot(x='Learning_Disabilities', y='Exam_Score', data=df)\n",
    "plt.title('Distribution of Exam Scores by Learning Disabilities')\n",
    "plt.show()"
   ]
  },
  {
   "cell_type": "markdown",
   "id": "75e80fcb-d759-4f4d-9bda-f4a45efa2001",
   "metadata": {},
   "source": [
    "ויזואליזציה זו עונה לנו על **שאלת המחקר השניה** שלנו בהמשך לניתוח שביצענו גם קודם לכן בנושא. המסקנות לגבי שאלת המחקר מויזואליזציה זו ומהניתוח הדומה שביצענו הן"
   ]
  },
  {
   "cell_type": "markdown",
   "id": "99bbf3b0-fc10-4b66-b76d-f12143ef3ff7",
   "metadata": {},
   "source": [
    "1. תלמידים ללא לקויות למידה השיגו ממוצע ציונים מעט גבוה יותר לעומת תלמידים עם לקויות למידה"
   ]
  },
  {
   "cell_type": "markdown",
   "id": "d1a41425-52e7-4708-ba17-eb428f8ab247",
   "metadata": {},
   "source": [
    "2. התפלגות הציונים בקרב תלמידים ללא לקויות למידה רחבה יותר, עם מספר גבוה של ציונים גבוהים במיוחד (outliers)"
   ]
  },
  {
   "cell_type": "markdown",
   "id": "d5772141-8d1b-4891-96e9-c4264b9fa99c",
   "metadata": {},
   "source": [
    "3. אצל תלמידים עם לקויות למידה ההתפלגות קצת צרה יותר, והציונים נוטים להיות מרוכזים בטווח נמוך יותר יחסית"
   ]
  },
  {
   "cell_type": "markdown",
   "id": "7f8a5e93-5b47-4eb7-a370-127dc3da22d8",
   "metadata": {},
   "source": [
    "4. למרות שקיימים גם תלמידים עם לקויות למידה שהשיגו ציונים גבוהים, הם מעטים יחסית"
   ]
  },
  {
   "cell_type": "markdown",
   "id": "28c2a15c-355a-41da-8ff9-40c6bb64892e",
   "metadata": {},
   "source": [
    "לסיכום, נראה שקיימים הבדלים בציון המבחן הסופי בין תלמידים עם לקויות למידה לבין אלו שאין להם. הנתונים מצביעים על כך שתלמידים עם לקויות למידה נוטים להשיג ציונים נמוכים יותר במבחנים בהשוואה לתלמידים ללא לקויות, אך קיימת חפיפה בין הקבוצות שמעידה על שונות אישית בהישגים"
   ]
  },
  {
   "cell_type": "code",
   "execution_count": 20,
   "id": "96394ad9-d606-4ae4-9348-fee7cbf4da52",
   "metadata": {},
   "outputs": [
    {
     "data": {
      "text/plain": [
       "<Figure size 1000x600 with 0 Axes>"
      ]
     },
     "metadata": {},
     "output_type": "display_data"
    },
    {
     "data": {
      "image/png": "[encoded data removed]",
      "text/plain": [
       "<Figure size 512.222x500 with 1 Axes>"
      ]
     },
     "metadata": {},
     "output_type": "display_data"
    }
   ],
   "source": [
    "# גרף קטגוריאלי להצגת הקשר בין רמות מוטיבציה לציונים במבחן הסופי \n",
    "plt.figure(figsize=(10, 6))\n",
    "sb.catplot(data=df, x=\"Motivation_Level\", y=\"Exam_Score\")\n",
    "plt.title('Grades by Motivation Level')\n",
    "plt.xlabel('Motivation Level')\n",
    "plt.ylabel('Exam Score')\n",
    "plt.show()"
   ]
  },
  {
   "cell_type": "markdown",
   "id": "e4d00191-9e77-41a3-a324-d16881cd6603",
   "metadata": {},
   "source": [
    "ויזואליזציה זו עונה לנו על **שאלת המחקר השלישית** שלנו. המסקנות לגבי שאלת המחקר מויזואליזציה זו הן"
   ]
  },
  {
   "cell_type": "markdown",
   "id": "9fcff344-1fe6-446e-9859-4ce2bd0627ed",
   "metadata": {},
   "source": [
    "1. התפלגות ציונים דומה בכל הרמות – התפלגות ציוני הבחינה נראית דומה בין שלוש קבוצות המוטיבציה (נמוכה, בינונית, גבוהה), כאשר רובה המכריע של הציונים נמצא בטווח שבין 60 ל־80"
   ]
  },
  {
   "cell_type": "markdown",
   "id": "69ac60ef-ec5a-4263-a7a1-163695f71266",
   "metadata": {},
   "source": [
    "2. ציונים גבוהים קיימים בכל רמות המוטיבציה – קיימים תלמידים שקיבלו ציונים גבוהים מאוד (מעל 90 ואף 100) בכל אחת מרמות המוטיבציה, כולל בקבוצת המוטיבציה הנמוכה. זה עשוי להעיד על כך שמוטיבציה אינה הגורם היחיד המשפיע על הישגים"
   ]
  },
  {
   "cell_type": "markdown",
   "id": "2548183d-b517-4bf6-889d-51376cf827b9",
   "metadata": {},
   "source": [
    "3. אין מגמה ברורה של שיפור בציונים עם עליית רמת המוטיבציה – לא ניתן לזהות מגמה חד־משמעית של עלייה בציוני הבחינה ככל שרמת המוטיבציה עולה. ציונים גבוהים ונמוכים מופיעים בכל שלוש הקבוצות"
   ]
  },
  {
   "cell_type": "markdown",
   "id": "56d1b28b-a599-44de-b1e9-a39c376464ed",
   "metadata": {},
   "source": [
    "לסיכום, הגרף מצביע על כך שאין קשר מובהק וברור בין רמת המוטיבציה לבין ציוני הבחינה. ייתכן שישנם גורמים נוספים (כמו כישורים קוגניטיביים, סביבה לימודית, או תמיכה חיצונית) שמשפיעים על ההישגים יותר מאשר רמת המוטיבציה בלבד"
   ]
  },
  {
   "cell_type": "code",
   "execution_count": 14,
   "id": "9b64cb80-1bd3-498e-b0da-01abbafdec87",
   "metadata": {},
   "outputs": [
    {
     "data": {
      "image/png": "[encoded data removed]",
      "text/plain": [
       "<Figure size 1000x600 with 1 Axes>"
      ]
     },
     "metadata": {},
     "output_type": "display_data"
    }
   ],
   "source": [
    "#  היסטוגרמת התפלגות נוכחות לפיי קרבה לבית הספר \n",
    "plt.figure(figsize=(10, 6))\n",
    "sb.histplot(data=df, x='Attendance', hue='Distance_from_Home', bins=10, kde=False, multiple='stack')  \n",
    "plt.title('Distribution of attendence by distance from school')\n",
    "plt.xlabel('Attendance')\n",
    "plt.ylabel('Number of students')\n",
    "plt.show()"
   ]
  },
  {
   "cell_type": "markdown",
   "id": "621ea778-a75b-4832-8a6e-37b5a8701ad2",
   "metadata": {},
   "source": [
    "ויזואליזציה זו בתוספת הניתוח בנושא שביצענו קודם לכן (כולל רמת המוטיבציה) עונה לנו על **שאלת המחקר הרביעית** שלנו. המסקנות לגבי שאלת המחקר מויזואליזציה זו ומהניתוח שביצענו הן"
   ]
  },
  {
   "cell_type": "markdown",
   "id": "2e5187d2-181d-479e-b615-8eaa4f5168d8",
   "metadata": {},
   "source": [
    "1. רוב התלמידים גרים קרוב למוסד הלימודים, כמעט בכל עמודה, הקבוצה הכי גדולה היא ה\"כחולה\" זה מצביע על כך שלרוב הסטודנטים הקרבה לבית גבוהה"
   ]
  },
  {
   "cell_type": "markdown",
   "id": "a71f8465-781b-4a8e-9b34-08623b68df63",
   "metadata": {},
   "source": [
    "2. לתלמידים שגרים רחוק יש נוכחות נמוכה יחסית - השכבה הירוקה קטנה בכל הטווחים. אין כמעט תלמידים שגרים רחוק ויש להם נוכחות גבוה כלומר יתכן ויש קשר בין נוכחות נמוכה למרחק גדול  "
   ]
  },
  {
   "cell_type": "markdown",
   "id": "84e50111-3659-4ab1-a5b4-d7b4c51eafa5",
   "metadata": {},
   "source": [
    "3. ההתפלגות יחסית יציבה עבור קבוצות הקרבה. הקבוצות של מרחק קרוב וממוצע שומרות על פרופורציה דומה. כלומר, לא נראית עליה או ירידה דרמטית בקרבה ככל שאחוז הנוכחות עולה "
   ]
  },
  {
   "cell_type": "markdown",
   "id": "bebf4f34-e88e-4575-8c32-ec594d869bc6",
   "metadata": {},
   "source": [
    "4. אם נסתכל גם על הגרף וגם על הניתוח שביצענו קודם לכן בשילוב רמת המוטיבציה לא נראה שהשילוב בין מרחק מגורים לרמת מוטיבציה משפיע באופן חזק על אחוזי נוכחות התלמידים. גם בתרחישים הקשים למשל רחוק + רמת מוטיבציה נמוכה ממוצע הנוכחות עדיין סביר ודי קרוב ליתר הקבוצות. אמנם יש סימנים לכך שתלמידים שגרים קרוב מופיעים יותר אך ההבדלים קטנים והמוטיבציה כמעט לא נראית כמשפיעה"
   ]
  },
  {
   "cell_type": "markdown",
   "id": "fac04a92-702a-4afa-9c15-662c076f38d1",
   "metadata": {},
   "source": [
    "לסיכום, השילוב בין מרחק לרמת מוטיבציה לא מצביע על השפעה בולטת – אין דפוס ברור שמראה ששיעור הנוכחות מושפע במיוחד כאשר תלמידים עם מוטיבציה נמוכה גרים רחוק, או שתלמידים עם מוטיבציה גבוהה וקרבה לבית הספר משתתפים יותר. הנתונים יציבים יחסית בכל השילובים"
   ]
  },
  {
   "cell_type": "code",
   "execution_count": 16,
   "id": "fd2307f2-78a8-47eb-aafc-fe99c1b31f5b",
   "metadata": {},
   "outputs": [
    {
     "data": {
      "image/png": "[encoded data removed]",
      "text/plain": [
       "<Figure size 1000x600 with 1 Axes>"
      ]
     },
     "metadata": {},
     "output_type": "display_data"
    }
   ],
   "source": [
    "#גרף פיזור של ציוני הבחינה לפי מספר השיעורים הפרטיים בצירוף שעות הלמידה העצמית\n",
    "plt.figure(figsize=(10, 6))\n",
    "sb.scatterplot(x='Tutoring_Sessions', y='Exam_Score',hue='Hours_Studied', data=df)\n",
    "plt.title('Exam Score vs. Tutoring Sessions & Hours Studied')\n",
    "plt.show()\n"
   ]
  },
  {
   "cell_type": "markdown",
   "id": "e9266e79-3619-45d9-b44e-61b98fc29d31",
   "metadata": {},
   "source": [
    "ויזואליזציה זו עונה לנו על **שאלת המחקר החמישית** שלנו. המסקנות לגבי שאלת המחקר מויזואליזציה זו הן"
   ]
  },
  {
   "cell_type": "markdown",
   "id": "5a579541-1f1f-4919-9668-6305ee2851b5",
   "metadata": {},
   "source": [
    "1. שעות למידה עצמאית משפיעות באופן מובהק על ציוני הבחינה הסופית - תלמידים שלמדו יותר (צבע כהה יותר) נוטים להשיג ציונים גבוהים יותר, ללא קשר ברור למספר השיעורים הפרטיים  "
   ]
  },
  {
   "cell_type": "markdown",
   "id": "412007a7-3137-4527-a784-3a5315c2f7eb",
   "metadata": {},
   "source": [
    "2. כמות שיעורים פרטיים אינה מציגה מגמה ברורה של שיפור ציונים במבחן הסופי - ציונים גבוהים מופיעים גם בקרב תלמידים שלא קיבלו כלל שיעור פרטי וגם בקרב אלו שלא קיבלו מספר גבוה של שיעורים פרטיים. כלומר, אין עדות לכך שכמות השיעורים הפרטיים לבדם משפרת ציונים בצורה עקבית. "
   ]
  },
  {
   "cell_type": "markdown",
   "id": "54ccda00-9884-4449-8f68-68658f08ceb4",
   "metadata": {},
   "source": [
    "לסיכום, נראה שהשילוב בין שעות למידה רבות ושיעורים פרטיים יכולים להביא לתוצאות טובות. תלמידים עם מספר שיעורים פרטיים בינוני נמוך (0-3) שלמדו הרבה (צבע כהה) הם לרוב בעלי ציונים גבוהים יותר במבחן הסופי מה שמרמז שייתכן ששילוב מתון של שיעורים פרטיים יחד עם למידה עצמית יעילה תורם יותר מכמות שיעורים פרטיים גבוהה ללא לימוד עצמי "
   ]
  },
  {
   "cell_type": "code",
   "execution_count": null,
   "id": "7975b960-cd2f-43d9-ba66-7cffb7ffabf2",
   "metadata": {},
   "outputs": [],
   "source": []
  }
 ],
 "metadata": {
  "kernelspec": {
   "display_name": "Python 3 (ipykernel)",
   "language": "python",
   "name": "python3"
  },
  "language_info": {
   "codemirror_mode": {
    "name": "ipython",
    "version": 3
   },
   "file_extension": ".py",
   "mimetype": "text/x-python",
   "name": "python",
   "nbconvert_exporter": "python",
   "pygments_lexer": "ipython3",
   "version": "3.13.2"
  }
 },
 "nbformat": 4,
 "nbformat_minor": 5
}
